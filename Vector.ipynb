{
 "cells": [
  {
   "cell_type": "code",
   "execution_count": 25,
   "metadata": {},
   "outputs": [],
   "source": [
    "import math\n",
    "\n",
    "class Vector:\n",
    "    def __init__(self,coordinates):\n",
    "        try:\n",
    "            if not coordinates: \n",
    "                raise ValueError\n",
    "            self.coordinates = tuple(coordinates)\n",
    "            self.dimension = len(coordinates)\n",
    "            \n",
    "        \n",
    "        except ValueError:\n",
    "            raise ValueError(\"The coordinates must not be empty.\")\n",
    "        \n",
    "        except TypeError:\n",
    "            raise TypeError(\"The coordinates must be an iterables.\")\n",
    "            \n",
    "    \n",
    "    def __str__(self):\n",
    "        return 'Vector {}'.format(self.coordinates)\n",
    "    \n",
    "    \n",
    "    def __eq__(self,v):\n",
    "        return self.coordinates == v.coordinates\n",
    "    \n",
    "    # The length(magnitude) of a vector is the square root of it sum powered coordinate\n",
    "    def len(self):\n",
    "        temp = sum(math.pow(x,2) for x in self.coordinates)\n",
    "        return math.sqrt(temp)            \n",
    "    \n",
    "    # Adding 2 vector and return a new one.\n",
    "    def add(self,v):\n",
    "        res = Vector(self.coordinates)\n",
    "        res.coordinates = [sum(x) for x in zip(self.coordinates, v.coordinates)]\n",
    "        return res\n",
    "    \n",
    "    # Minus 2 vector and return a new one.\n",
    "    def minus(self,v):\n",
    "        res = Vector(self.coordinates)\n",
    "        res.coordinates = [x1 - x2 for x1,x2 in zip(self.coordinates, v.coordinates)]\n",
    "        return res\n",
    "    \n",
    "    #Scalar multiplication\n",
    "    def multiply_scalar(self,numval):\n",
    "        res = Vector(self.coordinates)\n",
    "        res.coordinates = tuple(round(numval*x,3) for x in res.coordinates) \n",
    "        return res          \n",
    "    \n",
    "    # the unit vector of a given vector \n",
    "    # formular: UV = 1/len(v) * v\n",
    "    def unit_vector(self):\n",
    "        try:\n",
    "            vlen = self.len()\n",
    "            return self.multiply_scalar(1/vlen)\n",
    "        \n",
    "        except ZeroDivisionError:\n",
    "            raise Exception(\"Cannot divide by 0.\")"
   ]
  },
  {
   "cell_type": "code",
   "execution_count": 26,
   "metadata": {},
   "outputs": [
    {
     "name": "stdout",
     "output_type": "stream",
     "text": [
      "Vector (1.671, -1.012, -0.318)\n",
      "10.884\n",
      "False\n",
      "False\n",
      "Vector (12.382, -7.499, -2.356)\n"
     ]
    },
    {
     "ename": "Exception",
     "evalue": "Cannot divide by 0.",
     "output_type": "error",
     "traceback": [
      "\u001b[1;31m---------------------------------------------------------------------------\u001b[0m",
      "\u001b[1;31mZeroDivisionError\u001b[0m                         Traceback (most recent call last)",
      "\u001b[1;32m<ipython-input-25-4f1a7b889588>\u001b[0m in \u001b[0;36munit_vector\u001b[1;34m(self)\u001b[0m\n\u001b[0;32m     53\u001b[0m             \u001b[0mvlen\u001b[0m \u001b[1;33m=\u001b[0m \u001b[0mself\u001b[0m\u001b[1;33m.\u001b[0m\u001b[0mlen\u001b[0m\u001b[1;33m(\u001b[0m\u001b[1;33m)\u001b[0m\u001b[1;33m\u001b[0m\u001b[0m\n\u001b[1;32m---> 54\u001b[1;33m             \u001b[1;32mreturn\u001b[0m \u001b[0mself\u001b[0m\u001b[1;33m.\u001b[0m\u001b[0mmultiply_scalar\u001b[0m\u001b[1;33m(\u001b[0m\u001b[1;36m1\u001b[0m\u001b[1;33m/\u001b[0m\u001b[0mvlen\u001b[0m\u001b[1;33m)\u001b[0m\u001b[1;33m\u001b[0m\u001b[0m\n\u001b[0m\u001b[0;32m     55\u001b[0m \u001b[1;33m\u001b[0m\u001b[0m\n",
      "\u001b[1;31mZeroDivisionError\u001b[0m: float division by zero",
      "\nDuring handling of the above exception, another exception occurred:\n",
      "\u001b[1;31mException\u001b[0m                                 Traceback (most recent call last)",
      "\u001b[1;32m<ipython-input-26-e9dbdf767ccb>\u001b[0m in \u001b[0;36m<module>\u001b[1;34m()\u001b[0m\n\u001b[0;32m     11\u001b[0m \u001b[0mprint\u001b[0m \u001b[1;33m(\u001b[0m\u001b[0mmy_vector3\u001b[0m \u001b[1;33m==\u001b[0m \u001b[0mmy_vector2\u001b[0m\u001b[1;33m)\u001b[0m\u001b[1;33m\u001b[0m\u001b[0m\n\u001b[0;32m     12\u001b[0m \u001b[0mprint\u001b[0m \u001b[1;33m(\u001b[0m\u001b[0mmy_vector\u001b[0m\u001b[1;33m.\u001b[0m\u001b[0mmultiply_scalar\u001b[0m\u001b[1;33m(\u001b[0m\u001b[1;36m7.41\u001b[0m\u001b[1;33m)\u001b[0m\u001b[1;33m)\u001b[0m\u001b[1;33m\u001b[0m\u001b[0m\n\u001b[1;32m---> 13\u001b[1;33m \u001b[0mprint\u001b[0m \u001b[1;33m(\u001b[0m\u001b[0mmy_vector3\u001b[0m\u001b[1;33m.\u001b[0m\u001b[0munit_vector\u001b[0m\u001b[1;33m(\u001b[0m\u001b[1;33m)\u001b[0m\u001b[1;33m)\u001b[0m\u001b[1;33m\u001b[0m\u001b[0m\n\u001b[0m",
      "\u001b[1;32m<ipython-input-25-4f1a7b889588>\u001b[0m in \u001b[0;36munit_vector\u001b[1;34m(self)\u001b[0m\n\u001b[0;32m     55\u001b[0m \u001b[1;33m\u001b[0m\u001b[0m\n\u001b[0;32m     56\u001b[0m         \u001b[1;32mexcept\u001b[0m \u001b[0mZeroDivisionError\u001b[0m\u001b[1;33m:\u001b[0m\u001b[1;33m\u001b[0m\u001b[0m\n\u001b[1;32m---> 57\u001b[1;33m             \u001b[1;32mraise\u001b[0m \u001b[0mException\u001b[0m\u001b[1;33m(\u001b[0m\u001b[1;34m\"Cannot divide by 0.\"\u001b[0m\u001b[1;33m)\u001b[0m\u001b[1;33m\u001b[0m\u001b[0m\n\u001b[0m",
      "\u001b[1;31mException\u001b[0m: Cannot divide by 0."
     ]
    }
   ],
   "source": [
    "#Sample\n",
    "\n",
    "my_vector = Vector([1.671,-1.012,-0.318])\n",
    "print (my_vector)\n",
    "\n",
    "my_vector2 = Vector([8.813,-1.331,-6.247])\n",
    "print (round(my_vector2.len(),3))\n",
    "print (my_vector == my_vector2)\n",
    "\n",
    "my_vector3 = Vector([0,0,0])\n",
    "print (my_vector3 == my_vector2)\n",
    "print (my_vector.multiply_scalar(7.41))\n",
    "print (my_vector3.unit_vector())\n"
   ]
  },
  {
   "cell_type": "code",
   "execution_count": null,
   "metadata": {},
   "outputs": [],
   "source": []
  },
  {
   "cell_type": "code",
   "execution_count": null,
   "metadata": {},
   "outputs": [],
   "source": []
  },
  {
   "cell_type": "code",
   "execution_count": null,
   "metadata": {},
   "outputs": [],
   "source": []
  },
  {
   "cell_type": "code",
   "execution_count": null,
   "metadata": {},
   "outputs": [],
   "source": []
  }
 ],
 "metadata": {
  "kernelspec": {
   "display_name": "Python 3",
   "language": "python",
   "name": "python3"
  },
  "language_info": {
   "codemirror_mode": {
    "name": "ipython",
    "version": 3
   },
   "file_extension": ".py",
   "mimetype": "text/x-python",
   "name": "python",
   "nbconvert_exporter": "python",
   "pygments_lexer": "ipython3",
   "version": "3.6.4"
  }
 },
 "nbformat": 4,
 "nbformat_minor": 2
}
